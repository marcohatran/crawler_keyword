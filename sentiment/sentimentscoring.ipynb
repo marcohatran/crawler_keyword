{
 "cells": [
  {
   "cell_type": "code",
   "execution_count": 1,
   "metadata": {},
   "outputs": [],
   "source": [
    "from elasticsearch import Elasticsearch\n",
    "es=Elasticsearch([{'host':'localhost','port':9200}])"
   ]
  },
  {
   "cell_type": "code",
   "execution_count": 2,
   "metadata": {},
   "outputs": [
    {
     "name": "stdout",
     "output_type": "stream",
     "text": [
      "Collecting pattern\n",
      "  Downloading Pattern-3.6.0.tar.gz (22.2 MB)\n",
      "Processing c:\\users\\markz\\appdata\\local\\pip\\cache\\wheels\\8b\\99\\a0\\81daf51dcd359a9377b110a8a886b3895921802d2fc1b2397e\\future-0.18.2-cp37-none-any.whl\n",
      "Collecting backports.csv\n",
      "  Downloading backports.csv-1.0.7-py2.py3-none-any.whl (12 kB)\n",
      "Collecting mysqlclient\n",
      "  Downloading mysqlclient-1.4.6-cp37-cp37m-win_amd64.whl (262 kB)\n",
      "Collecting beautifulsoup4\n",
      "  Downloading beautifulsoup4-4.9.0-py3-none-any.whl (109 kB)\n",
      "Collecting lxml\n",
      "  Using cached lxml-4.5.0-cp37-cp37m-win_amd64.whl (3.7 MB)\n",
      "Collecting feedparser\n",
      "  Downloading feedparser-5.2.1.tar.bz2 (192 kB)\n",
      "Collecting pdfminer.six\n",
      "  Downloading pdfminer.six-20200402-py3-none-any.whl (5.6 MB)\n",
      "Requirement already satisfied: numpy in c:\\users\\markz\\anaconda3\\envs\\crawl\\lib\\site-packages (from pattern) (1.18.3)\n",
      "Requirement already satisfied: scipy in c:\\users\\markz\\anaconda3\\envs\\crawl\\lib\\site-packages (from pattern) (1.4.1)\n",
      "Collecting nltk\n",
      "  Downloading nltk-3.5.zip (1.4 MB)\n",
      "Collecting python-docx\n",
      "  Downloading python-docx-0.8.10.tar.gz (5.5 MB)\n",
      "Collecting cherrypy\n",
      "  Downloading CherryPy-18.6.0-py2.py3-none-any.whl (419 kB)\n",
      "Collecting requests\n",
      "  Using cached requests-2.23.0-py2.py3-none-any.whl (58 kB)\n",
      "Collecting soupsieve>1.2\n",
      "  Downloading soupsieve-2.0-py2.py3-none-any.whl (32 kB)\n",
      "Collecting chardet; python_version > \"3.0\"\n",
      "  Using cached chardet-3.0.4-py2.py3-none-any.whl (133 kB)\n",
      "Collecting sortedcontainers\n",
      "  Downloading sortedcontainers-2.1.0-py2.py3-none-any.whl (28 kB)\n",
      "Collecting pycryptodome\n",
      "  Downloading pycryptodome-3.9.7-cp37-cp37m-win_amd64.whl (14.1 MB)\n",
      "Collecting click\n",
      "  Downloading click-7.1.2-py2.py3-none-any.whl (82 kB)\n",
      "Requirement already satisfied: joblib in c:\\users\\markz\\anaconda3\\envs\\crawl\\lib\\site-packages (from nltk->pattern) (0.14.1)\n",
      "Collecting regex\n",
      "  Downloading regex-2020.4.4-cp37-cp37m-win_amd64.whl (271 kB)\n",
      "Requirement already satisfied: tqdm in c:\\users\\markz\\anaconda3\\envs\\crawl\\lib\\site-packages (from nltk->pattern) (4.45.0)\n",
      "Collecting jaraco.collections\n",
      "  Downloading jaraco.collections-3.0.0-py2.py3-none-any.whl (9.4 kB)\n",
      "Collecting more-itertools\n",
      "  Downloading more_itertools-8.2.0-py3-none-any.whl (43 kB)\n",
      "Requirement already satisfied: pywin32; sys_platform == \"win32\" in c:\\users\\markz\\anaconda3\\envs\\crawl\\lib\\site-packages (from cherrypy->pattern) (227)\n",
      "Collecting cheroot>=8.2.1\n",
      "  Downloading cheroot-8.3.0-py2.py3-none-any.whl (86 kB)\n",
      "Collecting zc.lockfile\n",
      "  Downloading zc.lockfile-2.0-py2.py3-none-any.whl (9.7 kB)\n",
      "Collecting portend>=2.1.1\n",
      "  Downloading portend-2.6-py2.py3-none-any.whl (5.1 kB)\n",
      "Collecting idna<3,>=2.5\n",
      "  Using cached idna-2.9-py2.py3-none-any.whl (58 kB)\n",
      "Requirement already satisfied: certifi>=2017.4.17 in c:\\users\\markz\\anaconda3\\envs\\crawl\\lib\\site-packages (from requests->pattern) (2020.4.5.1)\n",
      "Requirement already satisfied: urllib3!=1.25.0,!=1.25.1,<1.26,>=1.21.1 in c:\\users\\markz\\anaconda3\\envs\\crawl\\lib\\site-packages (from requests->pattern) (1.25.9)\n",
      "Requirement already satisfied: six>=1.7.0 in c:\\users\\markz\\anaconda3\\envs\\crawl\\lib\\site-packages (from jaraco.collections->cherrypy->pattern) (1.14.0)\n",
      "Collecting jaraco.classes\n",
      "  Downloading jaraco.classes-3.1.0-py2.py3-none-any.whl (5.7 kB)\n",
      "Collecting jaraco.text\n",
      "  Downloading jaraco.text-3.2.0-py2.py3-none-any.whl (8.1 kB)\n",
      "Collecting jaraco.functools\n",
      "  Downloading jaraco.functools-3.0.1-py3-none-any.whl (6.7 kB)\n",
      "Requirement already satisfied: setuptools in c:\\users\\markz\\anaconda3\\envs\\crawl\\lib\\site-packages (from zc.lockfile->cherrypy->pattern) (46.1.3.post20200330)\n",
      "Collecting tempora>=1.8\n",
      "  Downloading tempora-3.0.0-py2.py3-none-any.whl (14 kB)\n",
      "Requirement already satisfied: pytz in c:\\users\\markz\\anaconda3\\envs\\crawl\\lib\\site-packages (from tempora>=1.8->portend>=2.1.1->cherrypy->pattern) (2020.1)\n",
      "Building wheels for collected packages: pattern, feedparser, nltk, python-docx\n",
      "  Building wheel for pattern (setup.py): started\n",
      "  Building wheel for pattern (setup.py): finished with status 'done'\n",
      "  Created wheel for pattern: filename=Pattern-3.6-py3-none-any.whl size=22332728 sha256=02a79c4d3ce2f4051a7d7fcfcfeab87a4434049a7f5132a9bc9c3701c2b5ef72\n",
      "  Stored in directory: c:\\users\\markz\\appdata\\local\\pip\\cache\\wheels\\8d\\1f\\4e\\9b67afd2430d55dee90bd57618dd7d899f1323e5852c465682\n",
      "  Building wheel for feedparser (setup.py): started\n",
      "  Building wheel for feedparser (setup.py): finished with status 'done'\n",
      "  Created wheel for feedparser: filename=feedparser-5.2.1-py3-none-any.whl size=44944 sha256=060fd5a1a482371271b10507efada5e5f9d414c7fc7b621d2bf72358755e5641\n",
      "  Stored in directory: c:\\users\\markz\\appdata\\local\\pip\\cache\\wheels\\4a\\87\\a9\\ef99b7b68f9816d5ef1262dc11ce31a93a844eb69e68c1a031\n",
      "  Building wheel for nltk (setup.py): started\n",
      "  Building wheel for nltk (setup.py): finished with status 'done'\n",
      "  Created wheel for nltk: filename=nltk-3.5-py3-none-any.whl size=1434680 sha256=a1a4ce28480ded8adbc6ff958e33bdc69d64eddcc4c20f706c7fea70f681d1b6\n",
      "  Stored in directory: c:\\users\\markz\\appdata\\local\\pip\\cache\\wheels\\45\\6c\\46\\a1865e7ba706b3817f5d1b2ff7ce8996aabdd0d03d47ba0266\n",
      "  Building wheel for python-docx (setup.py): started\n",
      "  Building wheel for python-docx (setup.py): finished with status 'done'\n",
      "  Created wheel for python-docx: filename=python_docx-0.8.10-py3-none-any.whl size=184495 sha256=4f70ba3622dc6e8d39826763e73f24ce734054c57813d9fc2d05cda97ea6e36a\n",
      "  Stored in directory: c:\\users\\markz\\appdata\\local\\pip\\cache\\wheels\\75\\c6\\69\\05491f32dc052cd70476b65f5bf7082a9b274045f6b001b821\n",
      "Successfully built pattern feedparser nltk python-docx\n",
      "Installing collected packages: future, backports.csv, mysqlclient, soupsieve, beautifulsoup4, lxml, feedparser, chardet, sortedcontainers, pycryptodome, pdfminer.six, click, regex, nltk, python-docx, more-itertools, jaraco.classes, jaraco.functools, jaraco.text, jaraco.collections, cheroot, zc.lockfile, tempora, portend, cherrypy, idna, requests, pattern\n",
      "Successfully installed backports.csv-1.0.7 beautifulsoup4-4.9.0 chardet-3.0.4 cheroot-8.3.0 cherrypy-18.6.0 click-7.1.2 feedparser-5.2.1 future-0.18.2 idna-2.9 jaraco.classes-3.1.0 jaraco.collections-3.0.0 jaraco.functools-3.0.1 jaraco.text-3.2.0 lxml-4.5.0 more-itertools-8.2.0 mysqlclient-1.4.6 nltk-3.5 pattern-3.6 pdfminer.six-20200402 portend-2.6 pycryptodome-3.9.7 python-docx-0.8.10 regex-2020.4.4 requests-2.23.0 sortedcontainers-2.1.0 soupsieve-2.0 tempora-3.0.0 zc.lockfile-2.0\n"
     ]
    }
   ],
   "source": [
    "!pip install pattern"
   ]
  },
  {
   "cell_type": "code",
   "execution_count": 3,
   "metadata": {},
   "outputs": [],
   "source": [
    "from pattern.en import ngrams\n",
    "from pattern.en import lemma"
   ]
  },
  {
   "cell_type": "code",
   "execution_count": 6,
   "metadata": {},
   "outputs": [],
   "source": [
    "import csv\n",
    "reader = csv.reader(open('dict.csv', 'r',encoding=\"utf8\"))\n",
    "pharma_dict = dict((rows[0],rows[1]) for rows in reader)"
   ]
  },
  {
   "cell_type": "code",
   "execution_count": 31,
   "metadata": {},
   "outputs": [],
   "source": [
    "res=es.get(index='posts',doc_type='_doc', id = 'a0fab5b4b83ed406ac4f97859a285ad4')"
   ]
  },
  {
   "cell_type": "code",
   "execution_count": 32,
   "metadata": {},
   "outputs": [
    {
     "data": {
      "text/plain": [
       "{'_index': 'posts',\n",
       " '_type': '_doc',\n",
       " '_id': 'a0fab5b4b83ed406ac4f97859a285ad4',\n",
       " '_version': 1,\n",
       " '_seq_no': 2418,\n",
       " '_primary_term': 1,\n",
       " 'found': True,\n",
       " '_source': {'keyword': 'cổ phiếu MSN',\n",
       "  'url': 'https://ndh.vn/co-phieu/thi-truong-a-u-re-e-hap-dan-nha-au-tu-tro-lai-1024885.html',\n",
       "  'title': 'Thị trường đã đủ rẻ để hấp dẫn nhà đầu tư trở lại?',\n",
       "  'content': '&nbsp;Như vậy là sau khi tăng điểm trong tuần lễ từ ngày 3/3 đến 11/3 từ 452 lên 495 điểm, chỉ số VN-Index đã giảm trong nhiều phiên sau đó và giảm còn 464 điểm trong ngày hôm 22/3.Việc này thể hiện giằng co giữa một bên là tâm lý lạc quan trước chính sách đúng đắn của chính phủ và một bên là nỗi lo lắng về những hệ quả mà chính sách thắt chặt có thể mang lại.Chúng tôi nhận thấy rằng lòng tin của nhà đầu tư vào chính sách và ổn định vĩ mô đang tăng lên đáng kể, rằng lạm phát và bất ổn tỷ giá rồi sẽ được giải quyết.Tuy nhiên, một câu hỏi đặt ra là quá trình này sẽ mất bao lâu? Trong khi vấn đề này chưa thể có câu trả lời rõ ràng thì một điều chắc chắn là thị trường chứng khoán sẽ bị tác động trên cả 2 mặt. Thứ nhất, lợi nhuận của doanh nghiệp sẽ bị ảnh hưởng vì chính sách thắt chặt tiền tệ lẫn tài khóa, và thứ hai, chi vốn quá cao sẽ khiến nhà đầu tư không muốn bỏ tiền vào chứng khoán, trừ khi mức giá cổ phiếu thực sự rẻ. Vậy mức giá hiện tại đã đủ rẻ hay chưa?Nếu nhìn lại quá khứ, chúng ta sẽ thấy rằng vào thời điểm tháng 6-2008 khi mà lãi suất cơ bản được nâng lên đến đỉnh điểm 14% và lãi suất cho vay lúc đó là 21%, một bối cảnh gần giống hiện tại, thì VNIndex đã giảm xuống 366 điểm với mức định giá PE là 9.7x.Trong tháng 2/2009, khi mà VN-Index chạm đáy 241 thì hệ số PE lúc đó là 10.8x. Nếu chỉ nhìn vào các số liệu quá khứ này thì dễ thấy là mức PE hiện tại khoảng 10x là khá rẻ, nhưng chúng tôi nghĩ rằng mức định giá này chỉ ở mức hợp lý chứ chưa hẳn là rẻ, vì những lý do sau đây:Thứ nhất, tăng trưởng EPS cho năm 2011 có thể sẽ âm , cũng như trong năm 2010. Trong năm 2010, Index giảm 6% và PE giảm 19% từ mức 12,7x xuống còn 10.2x. Nếu chúng ta loại bỏ ảnh hưởng của các cổ phiếu lớn như BVH, MSN, VIC (chiếm 23% tổng giá trị vốn hóa của VNIndex), chỉ số Index có lẽ đã giảm 29% vì 3 cổ phiếu lớn đã tăng khoảng 100%. Như vậy, tăng trưởng EPS của thị trường đã giảm khoảng 12% trong năm (Index giảm 29% trong khi PE giảm 19%).Mặc dù các công ty nhìn chung đều có lãi trong năm 2011, nhưng mà chính việc phát hành cổ phiếu quá nhiều đã dẫn đến EPS giảm.Thứ hai, trong năm 2011, dù không chắc về kế hoạch phát hành cổ phiếu, chúng tôi nghĩ rằng do tình hình năm nay khó khăn hơn nên nhiều công ty sẽ bị giảm lợi nhuận, do lãi suất cao, và nhu cầu sụt giảm. Các công ty trong ngành bất động sản, xây dựng, và vận tải tàu biển chắc chắn sẽ bị ảnh hưởng nhiều. Giả định rằng mức giảm EPS năm nay khoảng 10%, thấp hơn 2010 một chút.Thứ ba, chỉ số PE thị trường bình quân từ năm 2008 đến nay là 13.5x. Chúng tôi không tính đến 2 năm 2006-2007 chỉ số VNIndex trong 2 năm này bị tác động bởi rất nhiều nhân tố hỗ trợ mà khó có thể tái diễn trong tương lai gần.Thứ tư, chi phí vốn hiện tại vào khoảng 23%.Thứ năm, nếu tình hình vĩ mô được ổn định trong vòng 1 năm tới thì hệ số PE rất có thể sẽ quay về mức bình quuân trong quá khứ, khi đó, mức PE kì vọng hiện nay có thể được tính toán như sau: (13.5 x (1-10%))/(1+23%) = 9.87x, thấp hơn 1 chút so với mức PE hiện tại là 10x.Dù đây chỉ là ước tính sơ bộ với những giả định khá đơn giản, chúng tôi cho rằng mức định giá thấp như hiện nay chưa hẳn đã thật sự rẻ.Rủi ro chính phải kể đến triển vọng lợi nhuận, hoặc mức tăng trưởng EPS của các doanh nghiệp trong năm nay.Chúng tôi cũng nhận thấy các bội số định giá có thể sẽ tăng trong tương lai, nhưng chúng ta cũng nên quan tâm tới sự bất ổn về sự tăng trưởng lợi nhuận của các doanh nghiệp trong giai đoạn này.Chúng tôi cho rằng nhà đầu tư nên quan tâm đến các công ty phòng vệ với lượng tiền mặt lớn, nhưng các cổ phiếu có mức giảm giá quá sâu khi so với khả năng suy giảm lợi nhuận cũng có thể được xem xét đến.Bài viết thể hiện quan điểm riêng của Công ty Chứng khoán Bản Việt (VCSC).VCSC - NDH ',\n",
       "  'date': 'Thứ tư, 23/3/2011, 07:49 (GMT+7)',\n",
       "  'author': '',\n",
       "  'tokenize_content': '& nbsp ; Như_vậy là sau khi tăng điểm trong tuần_lễ từ ngày 3 / 3 đến 11 / 3 từ 452 lên 495 điểm , chỉ_số VN - Index đã giảm trong nhiều phiên sau đó và giảm còn 464 điểm trong ngày hôm 22 / 3 . Việc này thể_hiện giằng_co giữa một bên là tâm_lý lạc_quan trước chính_sách đúng_đắn của chính_phủ và một bên là nỗi lo_lắng về những hệ_quả mà chính_sách thắt chặt có_thể mang lại . Chúng_tôi nhận thấy rằng lòng tin của nhà đầu_tư vào chính_sách và ổn_định vĩ_mô đang tăng lên đáng_kể , rằng lạm_phát và bất_ổn tỷ_giá rồi sẽ được giải_quyết . Tuy_nhiên , một câu hỏi đặt ra là quá_trình này sẽ mất bao_lâu ? Trong khi vấn_đề này chưa thể có câu trả_lời rõ_ràng thì một điều chắc_chắn là thị_trường chứng_khoán sẽ bị tác_động trên cả 2 mặt . Thứ nhất , lợi_nhuận của doanh_nghiệp sẽ bị ảnh_hưởng vì chính_sách thắt chặt tiền_tệ lẫn tài khóa , và thứ hai , chi vốn quá cao sẽ khiến nhà đầu_tư không muốn bỏ tiền vào chứng_khoán , trừ khi mức giá cổ_phiếu thực_sự rẻ . Vậy mức giá hiện_tại đã đủ rẻ hay chưa ? Nếu nhìn lại quá_khứ , chúng_ta sẽ thấy rằng vào thời_điểm tháng 6 - 2008 khi mà lãi_suất cơ_bản được nâng lên đến đỉnh_điểm 14 % và lãi_suất cho vay lúc đó là 21 % , một bối_cảnh gần giống hiện_tại , thì VNIndex đã giảm xuống 366 điểm với mức định_giá PE là 9.7 x . Trong tháng 2 / 2009 , khi mà VN - Index chạm đáy 241 thì hệ_số PE lúc đó là 10.8 x . Nếu chỉ nhìn vào các số_liệu quá_khứ này thì dễ thấy là mức PE hiện_tại khoảng 10x là khá rẻ , nhưng chúng_tôi nghĩ rằng mức định_giá này chỉ ở mức hợp_lý chứ chưa hẳn là rẻ , vì những lý_do sau đây : Thứ nhất , tăng_trưởng EPS cho năm 2011 có_thể sẽ âm , cũng như trong năm 2010 . Trong năm 2010 , Index giảm 6 % và PE giảm 19 % từ mức 12,7 x xuống còn 10.2 x . Nếu chúng_ta loại_bỏ ảnh_hưởng của các cổ_phiếu lớn như BVH , MSN , VIC ( chiếm 23 % tổng giá_trị vốn_hóa của VNIndex ) , chỉ_số Index có_lẽ đã giảm 29 % vì 3 cổ_phiếu lớn đã tăng khoảng 100 % . Như_vậy , tăng_trưởng EPS của thị_trường đã giảm khoảng 12 % trong năm ( Index_giảm 29 % trong khi PE giảm 19 % ) . Mặc_dù các công_ty nhìn_chung đều có lãi trong năm 2011 , nhưng mà chính việc phát_hành cổ_phiếu quá nhiều đã dẫn đến EPS giảm . Thứ_hai , trong năm 2011 , dù không chắc về kế_hoạch phát_hành cổ_phiếu , chúng_tôi nghĩ rằng do tình_hình năm nay khó_khăn hơn nên nhiều công_ty sẽ bị giảm lợi_nhuận , do lãi_suất cao , và nhu_cầu sụt_giảm . Các công_ty trong ngành bất_động_sản , xây_dựng , và vận_tải tàu_biển chắc_chắn sẽ bị ảnh_hưởng nhiều . Giả_định rằng mức giảm EPS năm nay khoảng 10 % , thấp hơn 2010 một_chút . Thứ_ba , chỉ_số PE thị_trường bình_quân từ năm 2008 đến nay là 13.5 x . Chúng_tôi không tính đến 2 năm 2006 - 2007 chỉ_số VNIndex trong 2 năm này bị tác_động bởi rất nhiều nhân_tố hỗ_trợ mà khó có_thể tái_diễn trong tương_lai gần . Thứ_tư , chi_phí vốn hiện_tại vào_khoảng 23 % . Thứ năm , nếu tình_hình vĩ_mô được ổn_định trong vòng 1 năm tới thì hệ_số PE rất có_thể sẽ quay về mức bình quuân trong quá_khứ , khi đó , mức PE kì_vọng hiện_nay có_thể được tính_toán như sau : ( 13.5 x ( 1 - 10 % ) ) / ( 1 + 23 % ) = 9.87 x , thấp hơn 1 chút so với mức PE hiện_tại là 10x . Dù đây chỉ là ước_tính sơ_bộ với những giả_định khá đơn_giản , chúng_tôi cho rằng mức định_giá thấp như hiện_nay chưa hẳn đã thật_sự rẻ . Rủi_ro chính phải kể đến triển_vọng lợi_nhuận , hoặc mức tăng_trưởng EPS của các doanh_nghiệp trong năm nay . Chúng_tôi cũng nhận thấy các bội_số định_giá có_thể sẽ tăng trong tương_lai , nhưng chúng_ta cũng nên quan_tâm tới sự bất_ổn về sự tăng_trưởng lợi_nhuận của các doanh_nghiệp trong giai_đoạn này . Chúng_tôi cho rằng nhà đầu_tư nên quan_tâm đến các công_ty phòng_vệ với lượng tiền_mặt lớn , nhưng các cổ_phiếu có mức giảm_giá quá sâu khi so với khả_năng suy_giảm lợi_nhuận cũng có_thể được xem_xét đến . Bài viết thể_hiện quan_điểm riêng của Công_ty Chứng_khoán Bản Việt ( VCSC ) . VCSC - NDH'}}"
      ]
     },
     "execution_count": 32,
     "metadata": {},
     "output_type": "execute_result"
    }
   ],
   "source": [
    "res"
   ]
  },
  {
   "cell_type": "code",
   "execution_count": 33,
   "metadata": {},
   "outputs": [],
   "source": [
    "final_text = res['_source']['tokenize_content']"
   ]
  },
  {
   "cell_type": "code",
   "execution_count": 34,
   "metadata": {},
   "outputs": [],
   "source": [
    "text1 = ngrams(final_text, n=1, punctuation=\".,;:!?()[]{}`''\\\"@#$^&*+-|=~_\", continuous=False)\n",
    "final_text2 = ngrams(final_text, n=2, punctuation=\".,;:!?()[]{}`''\\\"@#$^&*+-|=~_\", continuous=False)\n",
    "final_text3 = ngrams(final_text, n=3, punctuation=\".,;:!?()[]{}`''\\\"@#$^&*+-|=~_\", continuous=False)"
   ]
  },
  {
   "cell_type": "code",
   "execution_count": 35,
   "metadata": {},
   "outputs": [],
   "source": [
    "new_dict = {}\n",
    "new_dict1 = {}\n",
    "new_dict2 = {}\n",
    "positive_score,negative_score = 0,0\n",
    "final_text1 = []"
   ]
  },
  {
   "cell_type": "code",
   "execution_count": 36,
   "metadata": {},
   "outputs": [],
   "source": [
    "for x in text1:\n",
    "    final_text1.append(lemma(x[0]))"
   ]
  },
  {
   "cell_type": "code",
   "execution_count": 37,
   "metadata": {},
   "outputs": [],
   "source": [
    "for k,v in pharma_dict.items():\n",
    "    for x in final_text1:\n",
    "        if x == k:\n",
    "            new_dict[x] = pharma_dict[x] "
   ]
  },
  {
   "cell_type": "code",
   "execution_count": 38,
   "metadata": {},
   "outputs": [],
   "source": [
    "for k,v in pharma_dict.items():\n",
    "    for x in final_text2:\n",
    "        temp = x[0] + ' ' + x[1]\n",
    "        if temp == k:\n",
    "            new_dict1[x] = pharma_dict[temp]"
   ]
  },
  {
   "cell_type": "code",
   "execution_count": 39,
   "metadata": {},
   "outputs": [],
   "source": [
    "for k,v in pharma_dict.items():\n",
    "    for x in final_text3:\n",
    "        temp = x[0] + ' ' + x[1] + ' ' + x[2]\n",
    "        if temp == k:\n",
    "            new_dict2[x] = pharma_dict[temp]  "
   ]
  },
  {
   "cell_type": "code",
   "execution_count": 40,
   "metadata": {},
   "outputs": [
    {
     "name": "stdout",
     "output_type": "stream",
     "text": [
      "{'nhu_cầu': 'positive', 'hỗ_trợ': 'positive', 'khó_khăn': 'negative', 'giảm_giá': 'negative'} {}\n"
     ]
    }
   ],
   "source": [
    "print(new_dict, new_dict1)"
   ]
  },
  {
   "cell_type": "code",
   "execution_count": 41,
   "metadata": {},
   "outputs": [],
   "source": [
    "positive_list = [] ; negative_list = [];"
   ]
  },
  {
   "cell_type": "code",
   "execution_count": 42,
   "metadata": {},
   "outputs": [],
   "source": [
    "for key, value in new_dict.items():\n",
    "    if value == 'positive':\n",
    "        positive_list.append(key)\n",
    "    if value == 'negative':\n",
    "        negative_list.append(key)"
   ]
  },
  {
   "cell_type": "code",
   "execution_count": 43,
   "metadata": {},
   "outputs": [],
   "source": [
    "for key, value in new_dict1.items():\n",
    "    if value == 'positive':\n",
    "        positive_list.append(key)\n",
    "    if value == 'negative':\n",
    "        negative_list.append(key)"
   ]
  },
  {
   "cell_type": "code",
   "execution_count": 44,
   "metadata": {},
   "outputs": [],
   "source": [
    "positive_score = len(positive_list) ; negative_score = len(negative_list);"
   ]
  },
  {
   "cell_type": "code",
   "execution_count": 45,
   "metadata": {},
   "outputs": [],
   "source": [
    "overall_score = positive_score - negative_score\n",
    "decision = ''"
   ]
  },
  {
   "cell_type": "code",
   "execution_count": 46,
   "metadata": {},
   "outputs": [],
   "source": [
    "if overall_score < 0:\n",
    "    decision = 'sell'\n",
    "elif overall_score == 0:\n",
    "    decision = 'hold'\n",
    "else:\n",
    "    decision = 'buy'"
   ]
  },
  {
   "cell_type": "code",
   "execution_count": 47,
   "metadata": {},
   "outputs": [
    {
     "name": "stdout",
     "output_type": "stream",
     "text": [
      "0\n"
     ]
    }
   ],
   "source": [
    "print(overall_score)"
   ]
  },
  {
   "cell_type": "code",
   "execution_count": null,
   "metadata": {},
   "outputs": [],
   "source": []
  }
 ],
 "metadata": {
  "kernelspec": {
   "display_name": "Python 3",
   "language": "python",
   "name": "python3"
  },
  "language_info": {
   "codemirror_mode": {
    "name": "ipython",
    "version": 3
   },
   "file_extension": ".py",
   "mimetype": "text/x-python",
   "name": "python",
   "nbconvert_exporter": "python",
   "pygments_lexer": "ipython3",
   "version": "3.7.7"
  }
 },
 "nbformat": 4,
 "nbformat_minor": 4
}
