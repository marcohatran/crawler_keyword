{
 "cells": [
  {
   "cell_type": "code",
   "execution_count": 1,
   "metadata": {},
   "outputs": [],
   "source": [
    "from elasticsearch import Elasticsearch"
   ]
  },
  {
   "cell_type": "code",
   "execution_count": 2,
   "metadata": {},
   "outputs": [],
   "source": [
    "es=Elasticsearch([{'host':'localhost','port':9200}])"
   ]
  },
  {
   "cell_type": "code",
   "execution_count": 3,
   "metadata": {},
   "outputs": [
    {
     "data": {
      "text/plain": [
       "<Elasticsearch([{'host': 'localhost', 'port': 9200}])>"
      ]
     },
     "execution_count": 3,
     "metadata": {},
     "output_type": "execute_result"
    }
   ],
   "source": [
    "es"
   ]
  },
  {
   "cell_type": "code",
   "execution_count": 6,
   "metadata": {},
   "outputs": [],
   "source": [
    "res=es.get(index='posts',doc_type='_doc', id = '324503d9ef398a0c444765c93546e9a5')"
   ]
  },
  {
   "cell_type": "code",
   "execution_count": 7,
   "metadata": {},
   "outputs": [
    {
     "data": {
      "text/plain": [
       "{'_index': 'posts',\n",
       " '_type': '_doc',\n",
       " '_id': '324503d9ef398a0c444765c93546e9a5',\n",
       " '_version': 1,\n",
       " '_seq_no': 0,\n",
       " '_primary_term': 1,\n",
       " 'found': True,\n",
       " '_source': {'keyword': 'cổ phiếu',\n",
       "  'url': 'https://ndh.vn/thoi-su/luat-an-ninh-mang-a-uoc-chinh-sua-the-nao-1123017.html',\n",
       "  'title': 'Luật An ninh mạng đã được chỉnh sửa thế nào?',\n",
       "  'content': 'Sáng nay (12/6) Quốc hội sẽ thông qua Luật An ninh mạng.Theo tài liệu đã được công bố trên Trung tâm báo chí của kỳ họp, dự thảo luật gồm 7 chương 43 điều, có hiệu lực thi hành từ ngày 1/1/2019.Trung tâm báo chí cũng đăng tải báo cáo tóm tắt giải trình, tiếp thu, chỉnh lý dự thảo luật. Báo cáo này sẽ được trình bày trước khi Quốc hội bấm nút.Báo cáo cho biết, dự thảo luật trình Quốc hội thông qua đã được chỉnh sửa nhiều điểm so với bản được Quốc hội thảo luận tại đầu kỳ họp.Cụ thể, điiều 10 đã quy định những nội dung cơ bản về hệ thống thông tin quan trọng về an ninh quốc gia và giao Thủ tướng Chính phủ ban hành danh mục cụ thể là bảo đảm phù hợp với Hiến pháp, đáp ứng yêu cầu thực tiễn thay đổi nhanh chóng của công nghệ thông tin và bảo đảm thống nhất với quy định của Luật An toàn thông tin mạng. Trong quá trình tiếp thu ý kiến đai biểu, Thường vụ Quốc hội đã chỉ đạo rà soát, chỉnh lý các khoản của diều 10 cho rõ ràng, chặt chẽ hơn.Uỷ ban Thường vụ Quốc hội cũng đã chỉ đạo Tổng Thư ký Quốc hội gửi phiếu lấy ý kiến các vị đại biểu Quốc hội đối với điều 10 của dự thảo luật trình Quốc hội thông qua, kết quả số phiếu thu về là 437 phiếu, trong đó có: 392 phiếu đồng ý (chiếm 89,7%); 41 phiếu không đồng ý (chiếm 9,38%); 4 phiếu ý kiến khác (chiếm 0,92%).Google, Facebook mở trung tâm dữ liệu là hoàn toàn khả thiMột trong những nội dung được dư luận đặc biệt quan tâm những ngày qua là quy định về bảo đảm an toàn thông tin trên không gian mạng tại điều 26.Điểm d khoản 2 điều 26 tại dự thảo luật trình Quốc hội đầu kỳ họp quy định, cơ quan, tổ chức trong và ngoài nước khi cung cấp dịch vụ trên không gian mạng hoặc sở hữu hệ thống thông tin tại Việt Nam phải: lưu trữ tại Việt Nam đối với thông tin cá nhân của người sử dụng dịch vụ tại Việt Nam và các dữ liệu quan trọng liên quan đến an ninh quốc gia; đặt trụ sở hoặc văn phòng đại diện tại Việt Nam.Báo cáo tiếp thu giải trình cho biết, khi thảo luận tại Quốc hội, một số ý kiến còn băn khoăn với quy định tại điểm d khoản 2, vì cho rằng quy định này không bảo đảm tính khả thi, làm gia tăng chi phí của doanh nghiệp nước ngoài, gây khó khăn cho các hoạt động tiếp cận thông tin và trái với các cam kết quốc tế mà Việt Nam là thành viên.Uỷ ban Thường vụ Quốc hội cho biết nội dung này đã giải trình tại báo cáo ngày 22/5, nay báo cáo bổ sung làm rõ thêm tính khả thi của quy định này.Đó là, các Hiệp định cơ bản của WTO (Hiệp định GATT, Hiệp định GATS) và Hiệp định CPTPP đều có điều khoản ngoại lệ về an ninh. Do đó, việc Việt Nam áp dụng các điều khoản ngoại lệ về an ninh trong luật này là hết sức cần thiết để bảo vệ lợi ích của người dân và an ninh quốc gia. Theo đó, Việt Nam có quyền yêu cầu các doanh nghiệp trong và ngoài nước cung cấp dịch vụ trên mạng viễn thông, mạng internet và các dịch vụ gia tăng trên không gian mạng tại Việt Nam phải lưu trữ tại Việt Nam đối với dữ liệu quan trọng của người sử dụng dịch vụ tại Việt Nam, bao gồm dữ liệu về thông tin cá nhân, dữ liệu về mối quan hệ của người sử dụng dịch vụ, dữ liệu do người sử dụng dịch vụ tại Việt Nam tạo ra; đồng thời, yêu cầu các doanh nghiệp nước ngoài tham gia các hoạt động này phải đặt trụ sở hoặc văn phòng đại diện tại Việt Nam.Đến nay, đã có hơn 18 quốc gia thành viên của WTO (trong đó có Hoa Kỳ, Canada, Úc, Đức, Pháp) quy định bắt buộc phải lưu trữ dữ liệu trong lãnh thổ quốc gia, báo cáo nêu rõ.Theo Uỷ ban Thường vụ Quốc hội thì hiện nay, Google và Facebook đang lưu trữ dữ liệu của cơ quan, tổ chức, cá nhân Việt Nam tại trung tâm dữ liệu đặt tại Hồng Kông và Singgapore. Nếu quy định của luật này có hiệu lực thì các doanh nghiệp này phải dịch chuyển đám mây điện toán (máy chủ ảo) về Việt Nam để mở trung tâm dữ liệu tại Việt Nam là hoàn toàn khả thi.Trường hợp trung tâm dữ liệu được đặt ở Việt Nam tuy có gia tăng thêm chi phí của doanh nghiệp, nhưng là quy định cần thiết phải đáp ứng yêu cầu về an ninh mạng của nước ta. Với quy định này, hoạt động kinh doanh của doanh nghiệp nước ngoài cũng như hoạt động sử dụng dịch vụ của các cơ quan, tổ chức, cá nhân trong nước cũng sẽ có những điểm thuận lợi nhất định; nếu gặp sự cố gián đoạn sẽ được xử lý nhanh hơn; cơ quan chức năng sẽ quản lý tốt hơn hoạt động kinh doanh của các doanh nghiệp này; khi có hành vi xâm phạm an ninh mạng, việc phối hợp xử lý thông tin và hành vi vi phạm sẽ hiệu quả và khả thi hơn.Uỷ ban Thường vụ Quốc hội cũng cho biết, căn cứ quy định của luật này và tình hình thực tiễn, Chính phủ quy định phạm vi doanh nghiệp cụ thể phải áp dụng quy định này, nên sẽ cơ bản không gây cản trở lưu thông dòng chảy dữ liệu, không ảnh hưởng đến hoạt động bình thường của các cơ quan, tổ chức, doanh nghiệp khác, kể cả doanh nghiệp khởi nghiệp.Chỉ lưu trữ trong thời gian nhất địnhVẫn liên quan đến điều 26, báo cáo thẩm tra cho biết, có ý kiến đề nghị thu hẹp và cụ thể hóa các loại dữ liệu cần lưu trữ tại Việt Nam để phù hợp với quy định khoản 2 điều 14 của Hiến pháp. Ý kiến khác đề nghị phân loại thông tin thành 3 cấp độ để lựa chọn loại thông tin cần lưu trữ cho rõ ràng ngay trong dự thảo Luật.Tiếp thu ý kiến đại biểu, để bảo đảm rõ ràng, minh bạch và phù hợp với tinh thần của Hiến pháp, Uỷ ban Thường vụ Quốc hội đã chỉ đạo lược bỏ quy định lưu trữ dữ liệu quan trọng liên quan đến an ninh quốc gia. Đồng thời, cụ thể hóa các loại dữ liệu quan trọng của người sử dụng dịch vụ tại Việt Nam cần phải lưu trữ.Ông Việt khẳng định, việc chỉnh lý như dự thảo luật cũng phù hợp với cấp độ 2, cấp độ 3 như ý kiến đại biểu đã nêu. Bên cạnh đó, Uỷ ban Thường vụ Quốc hội đã chỉ đạo bổ sung quy định việc lưu trữ dữ liệu này tại Việt Nam chỉ trong thời gian nhất định theo quy định của Chính phủ để tránh chi phí cho doanh nghiệp, đồng thời bỏ điểm đ khoản 2 trong dự thảo Chính phủ trình để tránh bị lạm dụng.Uỷ ban Thường vụ Quốc hội đã chỉ đạo Tổng thư ký Quốc hội gửi phiếu lấy ý kiến các vị đại biểu đối với điều 26 của dự thảo luật trình Quốc hội thông qua, kết quả như sau: số phiếu thu về là 437 phiếu, trong đó có: 358 phiếu đồng ý (chiếm 81,92%); 73 phiếu không đồng ý (chiếm 16,7%); 6 phiếu ý kiến khác (chiếm 1,38%).Điều 26. Bảo đảm an ninh thông tin trên không gian mạng1. Trang thông tin điện tử, cổng thông tin điện tử hoặc chuyên trang trên mạng xã hội của cơ quan, tổ chức, cá nhân không được cung cấp, đăng tải, truyền đưa thông tin có nội dung quy định tại các khoản 1, 2, 3, 4 và 5 Điều 16 của Luật này và các thông tin khác có nội dung xâm phạm an ninh quốc gia.2. Doanh nghiệp trong và ngoài nước khi cung cấp dịch vụ trên mạng viễn thông, mạng internet và các dịch vụ gia tăng trên không gian mạng tại Việt Nam có trách nhiệm sau đây:a) Xác thực thông tin khi người dùng đăng ký tài khoản số; bảo mật thông tin, tài khoản của người dùng; cung cấp thông tin người dùng cho lực lượng chuyên trách bảo vệ an ninh mạng thuộc Bộ Công an khi có yêu cầu bằng văn bản để phục vụ điều tra, xử lý hành vi vi phạm pháp luật về an ninh mạng;b) Ngăn chặn việc chia sẻ thông tin, xóa bỏ thông tin có nội dung quy định tại các khoản 1, 2, 3, 4 và 5 Điều 16 của Luật này trên dịch vụ hoặc hệ thống thông tin do cơ quan, tổ chức trực tiếp quản lý chậm nhất là 24 giờ kể từ thời điểm có yêu cầu của lực lượng chuyên trách bảo vệ an ninh mạng thuộc Bộ Công an hoặc cơ quan có thẩm quyền của Bộ Thông tin và Truyền thông và lưu nhật ký hệ thống để phục vụ điều tra, xử lý hành vi vi phạm pháp luật về an ninh mạng trong thời gian theo quy định của Chính phủ;c) Không cung cấp hoặc ngừng cung cấp dịch vụ trên mạng viễn thông, mạng internet và các dịch vụ gia tăng cho tổ chức, cá nhân đăng tải trên không gian mạng thông tin có nội dung quy định tại các khoản 1, 2, 3, 4 và 5 Điều 16 của Luật này khi có yêu cầu của lực lượng chuyên trách bảo vệ an ninh mạng thuộc Bộ Công an hoặc cơ quan có thẩm quyền của Bộ Thông tin và Truyền thông.3. Doanh nghiệp trong và ngoài nước cung cấp dịch vụ trên mạng viễn thông, mạng internet và các dịch vụ gia tăng trên không gian mạng tại Việt Nam có hoạt động thu thập, khai thác, phân tích, xử lý dữ liệu về thông tin cá nhân, dữ liệu về mối quan hệ của người sử dụng dịch vụ, dữ liệu do người sử dụng dịch vụ tại Việt Nam tạo ra phải lưu trữ dữ liệu này tại Việt Nam trong thời gian theo quy định của Chính phủ.Doanh nghiệp nước ngoài quy định tại khoản này phải đặt chi nhánh hoặc văn phòng đại diện tại Việt Nam.4. Chính phủ quy định chi tiết khoản 3 Điều này.Theo Nguyễn Lê - vneconomy.vn ',\n",
       "  'date': 'Thứ ba, 12/6/2018, 07:50 (GMT+7)',\n",
       "  'author': '',\n",
       "  'tokenize_content': 'Sáng nay ( 12 / 6 ) Quốc_hội sẽ thông_qua Luật An_ninh mạng . Theo tài_liệu đã được công_bố trên Trung_tâm báo_chí của kỳ họp , dự_thảo luật gồm 7 chương 43 điều , có hiệu_lực thi_hành từ ngày 1 / 1 / 2019 . Trung_tâm báo_chí cũng đăng_tải báo_cáo tóm_tắt giải_trình , tiếp_thu , chỉnh_lý dự_thảo luật . Báo_cáo này sẽ được trình_bày trước khi Quốc_hội bấm nút . Báo_cáo cho biết , dự_thảo luật trình Quốc_hội thông_qua đã được chỉnh_sửa nhiều điểm so với bản được Quốc_hội_thảo_luận tại đầu kỳ họp . Cụ_thể , điiều 10 đã quy_định những nội_dung cơ_bản về hệ_thống thông_tin quan_trọng về an_ninh quốc_gia và giao Thủ_tướng Chính_phủ ban_hành danh_mục cụ_thể là bảo_đảm phù_hợp với Hiến_pháp , đáp_ứng yêu_cầu thực_tiễn thay_đổi nhanh_chóng của công_nghệ thông_tin và bảo_đảm thống_nhất với quy_định của Luật An_toàn thông_tin mạng . Trong quá_trình tiếp_thu ý_kiến đai biểu , Thường_vụ Quốc_hội đã chỉ_đạo rà_soát , chỉnh_lý các khoản của diều 10 cho rõ_ràng , chặt_chẽ hơn . Uỷ_ban Thường_vụ Quốc_hội cũng đã chỉ_đạo Tổng_Thư_ký Quốc_hội gửi phiếu lấy ý_kiến các vị đại_biểu Quốc_hội đối_với điều 10 của dự_thảo luật trình Quốc_hội thông_qua , kết_quả số phiếu thu về là 437 phiếu , trong đó có : 392 phiếu đồng_ý ( chiếm 89,7 % ) ; 41 phiếu không đồng_ý ( chiếm 9,38 % ) ; 4 phiếu ý_kiến khác ( chiếm 0,92 % ) . Google , Facebook mở trung_tâm dữ_liệu là hoàn_toàn khả_thiMột trong những nội_dung được dư_luận đặc_biệt quan_tâm những ngày qua là quy_định về bảo_đảm an_toàn thông_tin trên không_gian mạng tại điều 26 . Điểm d khoản 2 điều 26 tại dự_thảo luật trình Quốc_hội đầu kỳ họp quy_định , cơ_quan , tổ_chức trong và ngoài nước khi cung_cấp dịch_vụ trên không_gian mạng hoặc sở_hữu hệ_thống thông_tin tại Việt_Nam phải : lưu_trữ tại Việt_Nam đối_với thông_tin cá_nhân của người sử_dụng dịch_vụ tại Việt_Nam và các dữ_liệu quan_trọng_liên_quan đến an_ninh quốc_gia ; đặt trụ_sở hoặc văn_phòng đại_diện tại Việt_Nam . Báo_cáo tiếp_thu giải_trình cho biết , khi thảo_luận tại Quốc_hội , một_số ý_kiến còn băn_khoăn với quy_định tại điểm d khoản 2 , vì cho rằng quy_định này không bảo_đảm tính khả_thi , làm gia_tăng chi_phí của doanh_nghiệp nước_ngoài , gây khó_khăn cho các hoạt_động tiếp_cận thông_tin và trái với các cam_kết quốc_tế mà Việt_Nam là thành_viên . Uỷ_ban Thường_vụ Quốc_hội cho biết nội_dung này đã giải_trình tại báo_cáo ngày 22 / 5 , nay báo_cáo bổ_sung làm rõ thêm tính khả_thi của quy_định này . Đó là , các Hiệp_định cơ_bản của WTO ( Hiệp_định GATT , Hiệp_định GATS ) và Hiệp_định CPTPP đều có điều_khoản ngoại_lệ về an_ninh . Do đó , việc Việt_Nam áp_dụng các điều_khoản ngoại_lệ về an_ninh trong luật này là hết_sức cần_thiết để bảo_vệ lợi_ích của người dân và an_ninh quốc_gia . Theo đó , Việt_Nam có quyền yêu_cầu các doanh_nghiệp trong và ngoài nước cung_cấp dịch_vụ trên mạng viễn_thông , mạng internet và các dịch_vụ gia_tăng trên không_gian mạng tại Việt_Nam phải lưu_trữ tại Việt_Nam đối_với dữ_liệu quan_trọng của người sử_dụng dịch_vụ tại Việt_Nam , bao_gồm dữ_liệu về thông_tin cá_nhân , dữ_liệu về mối quan_hệ của người sử_dụng dịch_vụ , dữ_liệu do người sử_dụng dịch_vụ tại Việt_Nam tạo ra ; đồng_thời , yêu_cầu các doanh_nghiệp nước_ngoài tham_gia các hoạt_động này phải đặt trụ_sở hoặc văn_phòng đại_diện tại Việt_Nam . Đến nay , đã có hơn 18 quốc_gia thành_viên của WTO ( trong đó có Hoa_Kỳ , Canada , Úc , Đức , Pháp ) quy_định bắt_buộc phải lưu_trữ dữ_liệu trong lãnh_thổ quốc_gia , báo_cáo nêu rõ . Theo Uỷ_ban Thường_vụ Quốc_hội thì hiện_nay , Google và Facebook đang lưu_trữ dữ_liệu của cơ_quan , tổ_chức , cá_nhân Việt_Nam tại trung_tâm dữ_liệu đặt tại Hồng_Kông và Singgapore . Nếu quy_định của luật này có hiệu_lực thì các doanh_nghiệp này phải dịch_chuyển đám mây điện_toán ( máy_chủ ảo ) về Việt_Nam để mở trung_tâm dữ_liệu tại Việt_Nam là hoàn_toàn khả_thi . Trường_hợp trung_tâm dữ_liệu được đặt ở Việt_Nam tuy có gia_tăng thêm chi_phí của doanh_nghiệp , nhưng là quy_định cần_thiết phải đáp_ứng yêu_cầu về an_ninh mạng của nước ta . Với quy_định này , hoạt_động kinh_doanh của doanh_nghiệp nước_ngoài cũng như hoạt_động sử_dụng dịch_vụ của các cơ_quan , tổ_chức , cá_nhân trong nước cũng sẽ có những điểm thuận_lợi nhất_định ; nếu gặp sự_cố gián_đoạn sẽ được xử_lý nhanh hơn ; cơ_quan_chức_năng sẽ quản_lý tốt hơn hoạt_động kinh_doanh của các doanh_nghiệp này ; khi có hành_vi xâm_phạm an_ninh mạng , việc phối_hợp xử_lý thông_tin và hành_vi vi_phạm sẽ hiệu_quả và khả_thi hơn . Uỷ_ban Thường_vụ Quốc_hội cũng cho biết , căn_cứ quy_định của luật này và tình_hình thực_tiễn , Chính_phủ quy_định phạm_vi doanh_nghiệp cụ_thể phải áp_dụng quy_định này , nên sẽ cơ_bản không gây cản_trở lưu_thông dòng_chảy dữ_liệu , không ảnh_hưởng đến hoạt_động bình_thường của các cơ_quan , tổ_chức , doanh_nghiệp khác , kể_cả doanh_nghiệp khởi_nghiệp . Chỉ lưu_trữ trong thời_gian nhất địnhVẫn liên_quan đến điều 26 , báo_cáo thẩm_tra cho biết , có ý_kiến đề_nghị thu_hẹp và cụ_thể hóa các loại dữ_liệu cần lưu_trữ tại Việt_Nam để phù_hợp với quy_định khoản 2 điều 14 của Hiến_pháp . Ý_kiến khác đề_nghị phân_loại thông_tin thành 3 cấp_độ để lựa_chọn loại thông_tin cần lưu_trữ cho rõ_ràng ngay trong dự_thảo Luật . Tiếp_thu ý_kiến đại_biểu , để bảo_đảm rõ_ràng , minh_bạch và phù_hợp với tinh_thần của Hiến_pháp , Uỷ_ban Thường_vụ Quốc_hội đã chỉ_đạo lược bỏ quy_định lưu_trữ dữ_liệu quan_trọng_liên_quan đến an_ninh quốc_gia . Đồng_thời , cụ_thể hóa các loại dữ_liệu quan_trọng của người sử_dụng dịch_vụ tại Việt_Nam cần phải lưu_trữ . Ông Việt khẳng_định , việc chỉnh_lý như dự_thảo luật cũng phù_hợp với cấp_độ 2 , cấp_độ 3 như_ý_kiến đại_biểu đã nêu . Bên cạnh đó , Uỷ_ban Thường_vụ Quốc_hội đã chỉ_đạo bổ_sung quy_định việc lưu_trữ dữ_liệu này tại Việt_Nam chỉ trong thời_gian nhất_định theo quy_định của Chính_phủ để tránh chi_phí cho doanh_nghiệp , đồng_thời bỏ điểm đ khoản 2 trong dự_thảo Chính_phủ trình để tránh bị lạm_dụng . Uỷ_ban Thường_vụ Quốc_hội đã chỉ_đạo Tổng_thư_ký Quốc_hội gửi phiếu lấy ý_kiến các vị đại_biểu đối_với điều 26 của dự_thảo luật trình Quốc_hội thông_qua , kết_quả như sau : số phiếu thu về là 437 phiếu , trong đó có : 358 phiếu đồng_ý ( chiếm 81,92 % ) ; 73 phiếu không đồng_ý ( chiếm 16,7 % ) ; 6 phiếu ý_kiến khác ( chiếm 1,38 % ) . Điều 26 . Bảo_đảm an_ninh thông_tin trên không_gian mạng1 . Trang thông_tin điện_tử , cổng thông_tin điện_tử hoặc chuyên_trang trên mạng xã_hội của cơ_quan , tổ_chức , cá_nhân không được cung_cấp , đăng_tải , truyền đưa thông_tin có nội_dung quy_định tại các khoản 1 , 2 , 3 , 4 và 5 Điều 16 của Luật này và các thông_tin khác có nội_dung xâm_phạm an_ninh quốc_gia . 2 . Doanh_nghiệp trong và ngoài nước khi cung_cấp dịch_vụ trên mạng viễn_thông , mạng internet và các dịch_vụ gia_tăng trên không_gian mạng tại Việt_Nam có trách_nhiệm sau đây : a ) Xác_thực thông_tin khi người dùng đăng_ký tài_khoản số ; bảo_mật thông_tin , tài_khoản của người dùng ; cung_cấp thông_tin người dùng cho lực_lượng chuyên_trách bảo_vệ an_ninh mạng thuộc Bộ Công_an khi có yêu_cầu bằng văn_bản để phục_vụ điều_tra , xử_lý hành_vi vi_phạm pháp_luật về an_ninh mạng ; b ) Ngăn_chặn việc chia_sẻ thông_tin , xóa bỏ thông_tin có nội_dung quy_định tại các khoản 1 , 2 , 3 , 4 và 5 Điều 16 của Luật này trên dịch_vụ hoặc hệ_thống thông_tin do cơ_quan , tổ_chức trực_tiếp_quản_lý chậm nhất_là 24 giờ kể từ thời_điểm có yêu_cầu của lực_lượng chuyên_trách bảo_vệ an_ninh mạng thuộc Bộ Công_an hoặc cơ_quan có thẩm_quyền của Bộ Thông_tin và Truyền_thông và lưu nhật_ký hệ_thống để phục_vụ điều_tra , xử_lý hành_vi vi_phạm pháp_luật về an_ninh mạng trong thời_gian theo quy_định của Chính_phủ ; c ) Không cung_cấp hoặc ngừng cung_cấp dịch_vụ trên mạng viễn_thông , mạng internet và các dịch_vụ gia_tăng cho tổ_chức , cá_nhân đăng_tải trên không_gian mạng thông_tin có nội_dung quy_định tại các khoản 1 , 2 , 3 , 4 và 5 Điều 16 của Luật này khi có yêu_cầu của lực_lượng chuyên_trách bảo_vệ an_ninh mạng thuộc Bộ Công_an hoặc cơ_quan có thẩm_quyền của Bộ Thông_tin và Truyền_thông . 3 . Doanh_nghiệp trong và ngoài nước cung_cấp dịch_vụ trên mạng viễn_thông , mạng internet và các dịch_vụ gia_tăng trên không_gian mạng tại Việt_Nam có hoạt_động thu_thập , khai_thác , phân_tích , xử_lý dữ_liệu về thông_tin cá_nhân , dữ_liệu về mối quan_hệ của người sử_dụng dịch_vụ , dữ_liệu do người sử_dụng dịch_vụ tại Việt_Nam tạo ra phải lưu_trữ dữ_liệu này tại Việt_Nam trong thời_gian theo quy_định của Chính_phủ . Doanh_nghiệp nước_ngoài quy_định tại khoản này phải đặt chi_nhánh hoặc văn_phòng đại_diện tại Việt_Nam . 4 . Chính_phủ quy_định chi_tiết khoản 3 Điều này . Theo Nguyễn_Lê - vneconomy . vn'}}"
      ]
     },
     "execution_count": 7,
     "metadata": {},
     "output_type": "execute_result"
    }
   ],
   "source": [
    "res"
   ]
  },
  {
   "cell_type": "code",
   "execution_count": 9,
   "metadata": {},
   "outputs": [
    {
     "data": {
      "text/plain": [
       "dict"
      ]
     },
     "execution_count": 9,
     "metadata": {},
     "output_type": "execute_result"
    }
   ],
   "source": [
    "type(res)"
   ]
  },
  {
   "cell_type": "code",
   "execution_count": 13,
   "metadata": {},
   "outputs": [],
   "source": [
    "data = res"
   ]
  },
  {
   "cell_type": "code",
   "execution_count": 17,
   "metadata": {},
   "outputs": [
    {
     "data": {
      "text/plain": [
       "'Sáng nay ( 12 / 6 ) Quốc_hội sẽ thông_qua Luật An_ninh mạng . Theo tài_liệu đã được công_bố trên Trung_tâm báo_chí của kỳ họp , dự_thảo luật gồm 7 chương 43 điều , có hiệu_lực thi_hành từ ngày 1 / 1 / 2019 . Trung_tâm báo_chí cũng đăng_tải báo_cáo tóm_tắt giải_trình , tiếp_thu , chỉnh_lý dự_thảo luật . Báo_cáo này sẽ được trình_bày trước khi Quốc_hội bấm nút . Báo_cáo cho biết , dự_thảo luật trình Quốc_hội thông_qua đã được chỉnh_sửa nhiều điểm so với bản được Quốc_hội_thảo_luận tại đầu kỳ họp . Cụ_thể , điiều 10 đã quy_định những nội_dung cơ_bản về hệ_thống thông_tin quan_trọng về an_ninh quốc_gia và giao Thủ_tướng Chính_phủ ban_hành danh_mục cụ_thể là bảo_đảm phù_hợp với Hiến_pháp , đáp_ứng yêu_cầu thực_tiễn thay_đổi nhanh_chóng của công_nghệ thông_tin và bảo_đảm thống_nhất với quy_định của Luật An_toàn thông_tin mạng . Trong quá_trình tiếp_thu ý_kiến đai biểu , Thường_vụ Quốc_hội đã chỉ_đạo rà_soát , chỉnh_lý các khoản của diều 10 cho rõ_ràng , chặt_chẽ hơn . Uỷ_ban Thường_vụ Quốc_hội cũng đã chỉ_đạo Tổng_Thư_ký Quốc_hội gửi phiếu lấy ý_kiến các vị đại_biểu Quốc_hội đối_với điều 10 của dự_thảo luật trình Quốc_hội thông_qua , kết_quả số phiếu thu về là 437 phiếu , trong đó có : 392 phiếu đồng_ý ( chiếm 89,7 % ) ; 41 phiếu không đồng_ý ( chiếm 9,38 % ) ; 4 phiếu ý_kiến khác ( chiếm 0,92 % ) . Google , Facebook mở trung_tâm dữ_liệu là hoàn_toàn khả_thiMột trong những nội_dung được dư_luận đặc_biệt quan_tâm những ngày qua là quy_định về bảo_đảm an_toàn thông_tin trên không_gian mạng tại điều 26 . Điểm d khoản 2 điều 26 tại dự_thảo luật trình Quốc_hội đầu kỳ họp quy_định , cơ_quan , tổ_chức trong và ngoài nước khi cung_cấp dịch_vụ trên không_gian mạng hoặc sở_hữu hệ_thống thông_tin tại Việt_Nam phải : lưu_trữ tại Việt_Nam đối_với thông_tin cá_nhân của người sử_dụng dịch_vụ tại Việt_Nam và các dữ_liệu quan_trọng_liên_quan đến an_ninh quốc_gia ; đặt trụ_sở hoặc văn_phòng đại_diện tại Việt_Nam . Báo_cáo tiếp_thu giải_trình cho biết , khi thảo_luận tại Quốc_hội , một_số ý_kiến còn băn_khoăn với quy_định tại điểm d khoản 2 , vì cho rằng quy_định này không bảo_đảm tính khả_thi , làm gia_tăng chi_phí của doanh_nghiệp nước_ngoài , gây khó_khăn cho các hoạt_động tiếp_cận thông_tin và trái với các cam_kết quốc_tế mà Việt_Nam là thành_viên . Uỷ_ban Thường_vụ Quốc_hội cho biết nội_dung này đã giải_trình tại báo_cáo ngày 22 / 5 , nay báo_cáo bổ_sung làm rõ thêm tính khả_thi của quy_định này . Đó là , các Hiệp_định cơ_bản của WTO ( Hiệp_định GATT , Hiệp_định GATS ) và Hiệp_định CPTPP đều có điều_khoản ngoại_lệ về an_ninh . Do đó , việc Việt_Nam áp_dụng các điều_khoản ngoại_lệ về an_ninh trong luật này là hết_sức cần_thiết để bảo_vệ lợi_ích của người dân và an_ninh quốc_gia . Theo đó , Việt_Nam có quyền yêu_cầu các doanh_nghiệp trong và ngoài nước cung_cấp dịch_vụ trên mạng viễn_thông , mạng internet và các dịch_vụ gia_tăng trên không_gian mạng tại Việt_Nam phải lưu_trữ tại Việt_Nam đối_với dữ_liệu quan_trọng của người sử_dụng dịch_vụ tại Việt_Nam , bao_gồm dữ_liệu về thông_tin cá_nhân , dữ_liệu về mối quan_hệ của người sử_dụng dịch_vụ , dữ_liệu do người sử_dụng dịch_vụ tại Việt_Nam tạo ra ; đồng_thời , yêu_cầu các doanh_nghiệp nước_ngoài tham_gia các hoạt_động này phải đặt trụ_sở hoặc văn_phòng đại_diện tại Việt_Nam . Đến nay , đã có hơn 18 quốc_gia thành_viên của WTO ( trong đó có Hoa_Kỳ , Canada , Úc , Đức , Pháp ) quy_định bắt_buộc phải lưu_trữ dữ_liệu trong lãnh_thổ quốc_gia , báo_cáo nêu rõ . Theo Uỷ_ban Thường_vụ Quốc_hội thì hiện_nay , Google và Facebook đang lưu_trữ dữ_liệu của cơ_quan , tổ_chức , cá_nhân Việt_Nam tại trung_tâm dữ_liệu đặt tại Hồng_Kông và Singgapore . Nếu quy_định của luật này có hiệu_lực thì các doanh_nghiệp này phải dịch_chuyển đám mây điện_toán ( máy_chủ ảo ) về Việt_Nam để mở trung_tâm dữ_liệu tại Việt_Nam là hoàn_toàn khả_thi . Trường_hợp trung_tâm dữ_liệu được đặt ở Việt_Nam tuy có gia_tăng thêm chi_phí của doanh_nghiệp , nhưng là quy_định cần_thiết phải đáp_ứng yêu_cầu về an_ninh mạng của nước ta . Với quy_định này , hoạt_động kinh_doanh của doanh_nghiệp nước_ngoài cũng như hoạt_động sử_dụng dịch_vụ của các cơ_quan , tổ_chức , cá_nhân trong nước cũng sẽ có những điểm thuận_lợi nhất_định ; nếu gặp sự_cố gián_đoạn sẽ được xử_lý nhanh hơn ; cơ_quan_chức_năng sẽ quản_lý tốt hơn hoạt_động kinh_doanh của các doanh_nghiệp này ; khi có hành_vi xâm_phạm an_ninh mạng , việc phối_hợp xử_lý thông_tin và hành_vi vi_phạm sẽ hiệu_quả và khả_thi hơn . Uỷ_ban Thường_vụ Quốc_hội cũng cho biết , căn_cứ quy_định của luật này và tình_hình thực_tiễn , Chính_phủ quy_định phạm_vi doanh_nghiệp cụ_thể phải áp_dụng quy_định này , nên sẽ cơ_bản không gây cản_trở lưu_thông dòng_chảy dữ_liệu , không ảnh_hưởng đến hoạt_động bình_thường của các cơ_quan , tổ_chức , doanh_nghiệp khác , kể_cả doanh_nghiệp khởi_nghiệp . Chỉ lưu_trữ trong thời_gian nhất địnhVẫn liên_quan đến điều 26 , báo_cáo thẩm_tra cho biết , có ý_kiến đề_nghị thu_hẹp và cụ_thể hóa các loại dữ_liệu cần lưu_trữ tại Việt_Nam để phù_hợp với quy_định khoản 2 điều 14 của Hiến_pháp . Ý_kiến khác đề_nghị phân_loại thông_tin thành 3 cấp_độ để lựa_chọn loại thông_tin cần lưu_trữ cho rõ_ràng ngay trong dự_thảo Luật . Tiếp_thu ý_kiến đại_biểu , để bảo_đảm rõ_ràng , minh_bạch và phù_hợp với tinh_thần của Hiến_pháp , Uỷ_ban Thường_vụ Quốc_hội đã chỉ_đạo lược bỏ quy_định lưu_trữ dữ_liệu quan_trọng_liên_quan đến an_ninh quốc_gia . Đồng_thời , cụ_thể hóa các loại dữ_liệu quan_trọng của người sử_dụng dịch_vụ tại Việt_Nam cần phải lưu_trữ . Ông Việt khẳng_định , việc chỉnh_lý như dự_thảo luật cũng phù_hợp với cấp_độ 2 , cấp_độ 3 như_ý_kiến đại_biểu đã nêu . Bên cạnh đó , Uỷ_ban Thường_vụ Quốc_hội đã chỉ_đạo bổ_sung quy_định việc lưu_trữ dữ_liệu này tại Việt_Nam chỉ trong thời_gian nhất_định theo quy_định của Chính_phủ để tránh chi_phí cho doanh_nghiệp , đồng_thời bỏ điểm đ khoản 2 trong dự_thảo Chính_phủ trình để tránh bị lạm_dụng . Uỷ_ban Thường_vụ Quốc_hội đã chỉ_đạo Tổng_thư_ký Quốc_hội gửi phiếu lấy ý_kiến các vị đại_biểu đối_với điều 26 của dự_thảo luật trình Quốc_hội thông_qua , kết_quả như sau : số phiếu thu về là 437 phiếu , trong đó có : 358 phiếu đồng_ý ( chiếm 81,92 % ) ; 73 phiếu không đồng_ý ( chiếm 16,7 % ) ; 6 phiếu ý_kiến khác ( chiếm 1,38 % ) . Điều 26 . Bảo_đảm an_ninh thông_tin trên không_gian mạng1 . Trang thông_tin điện_tử , cổng thông_tin điện_tử hoặc chuyên_trang trên mạng xã_hội của cơ_quan , tổ_chức , cá_nhân không được cung_cấp , đăng_tải , truyền đưa thông_tin có nội_dung quy_định tại các khoản 1 , 2 , 3 , 4 và 5 Điều 16 của Luật này và các thông_tin khác có nội_dung xâm_phạm an_ninh quốc_gia . 2 . Doanh_nghiệp trong và ngoài nước khi cung_cấp dịch_vụ trên mạng viễn_thông , mạng internet và các dịch_vụ gia_tăng trên không_gian mạng tại Việt_Nam có trách_nhiệm sau đây : a ) Xác_thực thông_tin khi người dùng đăng_ký tài_khoản số ; bảo_mật thông_tin , tài_khoản của người dùng ; cung_cấp thông_tin người dùng cho lực_lượng chuyên_trách bảo_vệ an_ninh mạng thuộc Bộ Công_an khi có yêu_cầu bằng văn_bản để phục_vụ điều_tra , xử_lý hành_vi vi_phạm pháp_luật về an_ninh mạng ; b ) Ngăn_chặn việc chia_sẻ thông_tin , xóa bỏ thông_tin có nội_dung quy_định tại các khoản 1 , 2 , 3 , 4 và 5 Điều 16 của Luật này trên dịch_vụ hoặc hệ_thống thông_tin do cơ_quan , tổ_chức trực_tiếp_quản_lý chậm nhất_là 24 giờ kể từ thời_điểm có yêu_cầu của lực_lượng chuyên_trách bảo_vệ an_ninh mạng thuộc Bộ Công_an hoặc cơ_quan có thẩm_quyền của Bộ Thông_tin và Truyền_thông và lưu nhật_ký hệ_thống để phục_vụ điều_tra , xử_lý hành_vi vi_phạm pháp_luật về an_ninh mạng trong thời_gian theo quy_định của Chính_phủ ; c ) Không cung_cấp hoặc ngừng cung_cấp dịch_vụ trên mạng viễn_thông , mạng internet và các dịch_vụ gia_tăng cho tổ_chức , cá_nhân đăng_tải trên không_gian mạng thông_tin có nội_dung quy_định tại các khoản 1 , 2 , 3 , 4 và 5 Điều 16 của Luật này khi có yêu_cầu của lực_lượng chuyên_trách bảo_vệ an_ninh mạng thuộc Bộ Công_an hoặc cơ_quan có thẩm_quyền của Bộ Thông_tin và Truyền_thông . 3 . Doanh_nghiệp trong và ngoài nước cung_cấp dịch_vụ trên mạng viễn_thông , mạng internet và các dịch_vụ gia_tăng trên không_gian mạng tại Việt_Nam có hoạt_động thu_thập , khai_thác , phân_tích , xử_lý dữ_liệu về thông_tin cá_nhân , dữ_liệu về mối quan_hệ của người sử_dụng dịch_vụ , dữ_liệu do người sử_dụng dịch_vụ tại Việt_Nam tạo ra phải lưu_trữ dữ_liệu này tại Việt_Nam trong thời_gian theo quy_định của Chính_phủ . Doanh_nghiệp nước_ngoài quy_định tại khoản này phải đặt chi_nhánh hoặc văn_phòng đại_diện tại Việt_Nam . 4 . Chính_phủ quy_định chi_tiết khoản 3 Điều này . Theo Nguyễn_Lê - vneconomy . vn'"
      ]
     },
     "execution_count": 17,
     "metadata": {},
     "output_type": "execute_result"
    }
   ],
   "source": [
    "data['_source']['tokenize_content']"
   ]
  },
  {
   "cell_type": "code",
   "execution_count": 18,
   "metadata": {},
   "outputs": [],
   "source": [
    "from pyvi import ViTokenizer, ViPosTagger"
   ]
  },
  {
   "cell_type": "code",
   "execution_count": 19,
   "metadata": {},
   "outputs": [
    {
     "data": {
      "text/plain": [
       "'Điều đó có_nghĩa khả_năng trả nợ đang bớt xấu đi'"
      ]
     },
     "execution_count": 19,
     "metadata": {},
     "output_type": "execute_result"
    }
   ],
   "source": [
    "ViTokenizer.tokenize(u\"Điều đó có nghĩa khả năng trả nợ đang bớt xấu đi\")"
   ]
  },
  {
   "cell_type": "code",
   "execution_count": null,
   "metadata": {},
   "outputs": [],
   "source": []
  }
 ],
 "metadata": {
  "kernelspec": {
   "display_name": "Python 3",
   "language": "python",
   "name": "python3"
  },
  "language_info": {
   "codemirror_mode": {
    "name": "ipython",
    "version": 3
   },
   "file_extension": ".py",
   "mimetype": "text/x-python",
   "name": "python",
   "nbconvert_exporter": "python",
   "pygments_lexer": "ipython3",
   "version": "3.7.7"
  }
 },
 "nbformat": 4,
 "nbformat_minor": 4
}
